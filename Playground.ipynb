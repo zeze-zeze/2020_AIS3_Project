{
 "cells": [
  {
   "cell_type": "code",
   "execution_count": 1,
   "metadata": {},
   "outputs": [],
   "source": [
    "import examine\n",
    "import generate\n",
    "import warnings\n",
    "warnings.filterwarnings(\"ignore\", category=UserWarning)"
   ]
  },
  {
   "cell_type": "markdown",
   "metadata": {},
   "source": [
    "# Generate some testing C source code"
   ]
  },
  {
   "cell_type": "code",
   "execution_count": 2,
   "metadata": {},
   "outputs": [],
   "source": [
    "generate.main()"
   ]
  },
  {
   "cell_type": "code",
   "execution_count": 3,
   "metadata": {},
   "outputs": [
    {
     "name": "stdout",
     "output_type": "stream",
     "text": [
      "total 1352\r\n",
      "-rw-r--r--@ 1 tomy0000000  staff  165967  8  2 10:22 tmp.asm\r\n",
      "-rwxr-xr-x@ 1 tomy0000000  staff   26264  8  2 10:23 \u001b[31mtmp.bin\u001b[m\u001b[m\r\n",
      "-rw-r--r--@ 1 tomy0000000  staff   23926  8  2 10:23 tmp.c\r\n",
      "-rw-r--r--@ 1 tomy0000000  staff  250679  8  2 10:22 tmp.csv\r\n",
      "-rw-r--r--@ 1 tomy0000000  staff  183783  8  1 20:10 vec.csv\r\n"
     ]
    }
   ],
   "source": [
    "!ls -l tmp"
   ]
  },
  {
   "cell_type": "markdown",
   "metadata": {},
   "source": [
    "# Run the examine process"
   ]
  },
  {
   "cell_type": "code",
   "execution_count": 4,
   "metadata": {
    "scrolled": false
   },
   "outputs": [
    {
     "name": "stdout",
     "output_type": "stream",
     "text": [
      "['--help']\n",
      "usage: ipykernel_launcher.py [-h] [-l] -b executable_path [-m model_name]\n",
      "\n",
      "Check if executable binary include any evil function\n",
      "\n",
      "optional arguments:\n",
      "  -h, --help            show this help message and exit\n",
      "  -l, --list            list all available model\n",
      "  -b executable_path, --binary executable_path\n",
      "                        the path to executable binary\n",
      "  -m model_name, --model model_name\n",
      "                        the model used to classify function (default: Gaussian\n",
      "                        Process)\n"
     ]
    },
    {
     "ename": "SystemExit",
     "evalue": "0",
     "output_type": "error",
     "traceback": [
      "An exception has occurred, use %tb to see the full traceback.\n",
      "\u001b[0;31mSystemExit\u001b[0m\u001b[0;31m:\u001b[0m 0\n"
     ]
    }
   ],
   "source": [
    "examine.main(args=[\"--help\"])"
   ]
  },
  {
   "cell_type": "code",
   "execution_count": 5,
   "metadata": {},
   "outputs": [
    {
     "name": "stdout",
     "output_type": "stream",
     "text": [
      "Complete Function List: \n",
      "['L124', 'L125', 'L126', 'L127', 'L128', 'L129', 'L130', 'L131', 'L132', 'L133', 'L134', '_evil3', '_func0', '_func10', '_func11', '_func12', '_func13', '_func14', '_func16', '_func19', '_func3', '_func4', '_func5', '_func6', '_func7', '_func8', '_func9']\n",
      "Target Function Found: _func0\n",
      "Target Function Found: _func4\n"
     ]
    },
    {
     "data": {
      "text/plain": [
       "0"
      ]
     },
     "execution_count": 3,
     "metadata": {},
     "output_type": "execute_result"
    }
   ],
   "source": [
    "examine.main(args=[\"-b\", \"tmp/tmp.bin\"])"
   ]
  }
 ],
 "metadata": {
  "kernelspec": {
   "display_name": "Python 3",
   "language": "python",
   "name": "python3"
  },
  "language_info": {
   "codemirror_mode": {
    "name": "ipython",
    "version": 3
   },
   "file_extension": ".py",
   "mimetype": "text/x-python",
   "name": "python",
   "nbconvert_exporter": "python",
   "pygments_lexer": "ipython3",
   "version": "3.7.4"
  }
 },
 "nbformat": 4,
 "nbformat_minor": 4
}
