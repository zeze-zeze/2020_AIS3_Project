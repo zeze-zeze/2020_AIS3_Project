{
 "cells": [
  {
   "cell_type": "code",
   "execution_count": 1,
   "metadata": {},
   "outputs": [],
   "source": [
    "import warnings\n",
    "import numpy as np\n",
    "import matplotlib.pyplot as plt"
   ]
  },
  {
   "cell_type": "code",
   "execution_count": 2,
   "metadata": {},
   "outputs": [],
   "source": [
    "from sklearn.datasets import make_classification\n",
    "from sklearn.exceptions import ConvergenceWarning\n",
    "from sklearn.experimental import enable_hist_gradient_boosting\n",
    "from sklearn.model_selection import train_test_split"
   ]
  },
  {
   "cell_type": "code",
   "execution_count": 3,
   "metadata": {},
   "outputs": [],
   "source": [
    "from sklearn.calibration import CalibratedClassifierCV\n",
    "from sklearn.compose import TransformedTargetRegressor\n",
    "from sklearn.cross_decomposition import PLSRegression\n",
    "from sklearn.discriminant_analysis import QuadraticDiscriminantAnalysis\n",
    "from sklearn.ensemble import (AdaBoostClassifier, BaggingClassifier,\n",
    "                              ExtraTreesClassifier, GradientBoostingClassifier,\n",
    "                              HistGradientBoostingClassifier,\n",
    "                              RandomForestClassifier)\n",
    "from sklearn.gaussian_process import GaussianProcessClassifier\n",
    "from sklearn.gaussian_process.kernels import RBF\n",
    "from sklearn.kernel_ridge import KernelRidge\n",
    "from sklearn.linear_model import (ARDRegression, BayesianRidge,\n",
    "                                  HuberRegressor, LinearRegression,\n",
    "                                  LogisticRegression,\n",
    "                                  PassiveAggressiveClassifier,\n",
    "                                  PoissonRegressor, RANSACRegressor,\n",
    "                                  RidgeClassifier, RidgeClassifierCV,\n",
    "                                  SGDClassifier, TheilSenRegressor,\n",
    "                                  TweedieRegressor)\n",
    "from sklearn.naive_bayes import GaussianNB\n",
    "from sklearn.neural_network import MLPClassifier\n",
    "from sklearn.svm import SVC\n",
    "from sklearn.tree import DecisionTreeClassifier"
   ]
  },
  {
   "cell_type": "code",
   "execution_count": null,
   "metadata": {},
   "outputs": [],
   "source": [
    "warnings.filterwarnings(\"ignore\", category=ConvergenceWarning, module=\"sklearn\")"
   ]
  },
  {
   "cell_type": "code",
   "execution_count": 5,
   "metadata": {},
   "outputs": [],
   "source": [
    "def load_input_from_file(filename: str) -> (np.ndarray, np.ndarray):\n",
    "    with open(filename) as file:\n",
    "        data = np.loadtxt(file, delimiter=\",\")\n",
    "    return data[:, 1:], data[:, 0]\n",
    "def generate_exmaple_data(n_samples: int=100, n_features: int=310) -> (np.ndarray, np.ndarray):\n",
    "    X, y = make_classification(n_samples=n_samples, n_features=n_features, n_informative=2, n_redundant=0,\n",
    "                               n_clusters_per_class=1, random_state=1)\n",
    "    X += 2 * np.random.RandomState(2).uniform(size=X.shape)\n",
    "    return X, y\n",
    "def dump_data(filename: str) -> None:\n",
    "    import csv\n",
    "    with open(filename, \"w\", newline=\"\") as csvfile:\n",
    "        writer = csv.writer(csvfile)\n",
    "        for vec, label in zip(X, y):\n",
    "            writer.writerow([int(label)] + vec.tolist())"
   ]
  },
  {
   "cell_type": "code",
   "execution_count": 6,
   "metadata": {},
   "outputs": [],
   "source": [
    "X, y = load_input_from_file(\"example_input.csv\")\n",
    "# X, y = generate_exmaple_data()\n",
    "X_train, X_test, y_train, y_test = train_test_split(X, y, test_size=.4, random_state=42)"
   ]
  },
  {
   "cell_type": "code",
   "execution_count": null,
   "metadata": {},
   "outputs": [],
   "source": []
  },
  {
   "cell_type": "markdown",
   "metadata": {},
   "source": [
    "## Classifiers"
   ]
  },
  {
   "cell_type": "code",
   "execution_count": 7,
   "metadata": {},
   "outputs": [],
   "source": [
    "classifiers = {\n",
    "    \"Calibrated CV\": CalibratedClassifierCV(),\n",
    "    \"QDA\": QuadraticDiscriminantAnalysis(),\n",
    "    \"Ada Boost\": AdaBoostClassifier(),\n",
    "    \"Bagging\": BaggingClassifier(),\n",
    "    \"Extra Trees\": ExtraTreesClassifier(),\n",
    "    \"Gradient Boosting\": GradientBoostingClassifier(),\n",
    "    \"Hist Gradient Boosting\": HistGradientBoostingClassifier(),\n",
    "    \"Random Forest\": RandomForestClassifier(),\n",
    "    \"Random Forest\": RandomForestClassifier(max_depth=5, n_estimators=10, max_features=1),\n",
    "    \"Gaussian Process\": GaussianProcessClassifier(1.0 * RBF(1.0)),\n",
    "    \"Passive Aggressive\": PassiveAggressiveClassifier(),\n",
    "    \"Ridge\": RidgeClassifier(),\n",
    "    \"Ridge CV\": RidgeClassifierCV(),\n",
    "    \"SGD\": SGDClassifier(),\n",
    "    \"Naive Bayes\": GaussianNB(),\n",
    "    \"Neural Network\": MLPClassifier(alpha=1, max_iter=1000),\n",
    "    \"Linear SVM\": SVC(kernel=\"linear\", C=0.025),\n",
    "    \"RBF SVM\": SVC(gamma=2, C=1),\n",
    "    \"Decision Tree\": DecisionTreeClassifier(max_depth=5),\n",
    "}"
   ]
  },
  {
   "cell_type": "code",
   "execution_count": 8,
   "metadata": {
    "scrolled": false
   },
   "outputs": [
    {
     "name": "stdout",
     "output_type": "stream",
     "text": [
      "Calibrated CV       : 0.575\n",
      "QDA                 : 0.45\n",
      "Ada Boost           : 0.95\n",
      "Bagging             : 0.95\n",
      "Extra Trees         : 0.625\n"
     ]
    },
    {
     "name": "stderr",
     "output_type": "stream",
     "text": [
      "/usr/local/lib/python3.6/dist-packages/sklearn/discriminant_analysis.py:715: UserWarning: Variables are collinear\n",
      "  warnings.warn(\"Variables are collinear\")\n"
     ]
    },
    {
     "name": "stdout",
     "output_type": "stream",
     "text": [
      "Gradient Boosting   : 0.95\n",
      "Hist Gradient Boosting: 0.95\n",
      "Random Forest       : 0.45\n",
      "Gaussian Process    : 0.425\n",
      "Passive Aggressive  : 0.525\n",
      "Ridge               : 0.575\n",
      "Ridge CV            : 0.575\n",
      "SGD                 : 0.625\n",
      "Naive Bayes         : 0.7\n",
      "Neural Network      : 0.55\n",
      "Linear SVM          : 0.6\n",
      "RBF SVM             : 0.4\n",
      "Decision Tree       : 0.95\n"
     ]
    }
   ],
   "source": [
    "for classifier_name, classifier in classifiers.items():\n",
    "    classifier.fit(X_train, y_train)\n",
    "#     predicted_results = classifier.predict(X_test)\n",
    "#     print(f\"{classifier_name:20}: {predicted_results}\")\n",
    "    score = classifier.score(X_test, y_test)\n",
    "    print(f\"{classifier_name:20}: {score}\")"
   ]
  },
  {
   "cell_type": "code",
   "execution_count": null,
   "metadata": {},
   "outputs": [],
   "source": []
  },
  {
   "cell_type": "code",
   "execution_count": null,
   "metadata": {},
   "outputs": [],
   "source": []
  },
  {
   "cell_type": "code",
   "execution_count": null,
   "metadata": {},
   "outputs": [],
   "source": []
  },
  {
   "cell_type": "markdown",
   "metadata": {},
   "source": [
    "## Regressors"
   ]
  },
  {
   "cell_type": "code",
   "execution_count": 19,
   "metadata": {},
   "outputs": [],
   "source": [
    "regressors = {\n",
    "    \"Transformed Target\": TransformedTargetRegressor(),\n",
    "    \"PLSRegression\": PLSRegression(),\n",
    "    \"Kernel Ridge\": KernelRidge(alpha=1.0),\n",
    "    \"ARD\": ARDRegression(),\n",
    "    \"Bayesian Ridge\": BayesianRidge(),\n",
    "    \"Huber\": HuberRegressor(),\n",
    "    \"Linear\": LinearRegression(),\n",
    "    \"Logistic\": LogisticRegression(),\n",
    "    \"Poisson\": PoissonRegressor(),\n",
    "#     \"RANSAC\": RANSACRegressor(min_samples=50), # FIXME\n",
    "    \"TheilSen\": TheilSenRegressor(),\n",
    "    \"Tweedie\": TweedieRegressor(),\n",
    "}"
   ]
  },
  {
   "cell_type": "code",
   "execution_count": 20,
   "metadata": {
    "scrolled": true
   },
   "outputs": [
    {
     "name": "stdout",
     "output_type": "stream",
     "text": [
      "Transformed Target  : [0.66341425 0.23934944 0.53570682 0.33110733 0.48103468 0.19715645\n",
      " 0.37145135 0.26449344 0.55999104 0.36981599 0.61666291 0.63171995\n",
      " 0.30866133 0.62479472 0.75822589 0.73912439 0.10417565 0.20577869\n",
      " 0.33516355 0.82104244 0.41407807 0.31270604 0.25629228 0.35174011\n",
      " 0.63876056 0.70738042 0.29441251 0.39999353 0.04847399 0.19296669\n",
      " 0.12733034 0.38051579 0.70616724 0.29637698 0.09839239 0.14945951\n",
      " 0.28809482 0.568766   0.40015064 0.51159572]\n",
      "PLSRegression       : [[0.62473943]\n",
      " [0.42918294]\n",
      " [0.51673229]\n",
      " [0.37733726]\n",
      " [0.392208  ]\n",
      " [0.23018411]\n",
      " [0.3820028 ]\n",
      " [0.31438127]\n",
      " [0.62985777]\n",
      " [0.34795639]\n",
      " [0.59210033]\n",
      " [0.66591635]\n",
      " [0.29782501]\n",
      " [0.597517  ]\n",
      " [0.72026421]\n",
      " [0.67679423]\n",
      " [0.17860743]\n",
      " [0.1213335 ]\n",
      " [0.38156773]\n",
      " [0.8164904 ]\n",
      " [0.42726643]\n",
      " [0.38003412]\n",
      " [0.22970572]\n",
      " [0.32443729]\n",
      " [0.64819297]\n",
      " [0.66227135]\n",
      " [0.29202046]\n",
      " [0.38834094]\n",
      " [0.08876148]\n",
      " [0.20072091]\n",
      " [0.07347027]\n",
      " [0.33867624]\n",
      " [0.72237872]\n",
      " [0.27074723]\n",
      " [0.09602695]\n",
      " [0.23069897]\n",
      " [0.2700364 ]\n",
      " [0.53699937]\n",
      " [0.40055741]\n",
      " [0.47906403]]\n",
      "Kernel Ridge        : [0.6489739  0.26346822 0.55032763 0.34462772 0.51804048 0.06431063\n",
      " 0.39339851 0.24104201 0.56031814 0.32501737 0.60927826 0.60079168\n",
      " 0.20327666 0.60531051 0.77550167 0.73799513 0.10048525 0.18221314\n",
      " 0.32592132 0.82882367 0.41714476 0.29516234 0.3110466  0.32459443\n",
      " 0.64745929 0.74450703 0.34293435 0.38639436 0.05045166 0.2999674\n",
      " 0.13912426 0.39765652 0.68565443 0.30081051 0.14626939 0.06813437\n",
      " 0.27356703 0.64020784 0.44327126 0.43067862]\n",
      "ARD                 : [ 0.53458597 -0.22073075  0.91781265  0.17630681 -0.02211763  0.32296261\n",
      "  0.30968568  0.61731306  0.28094308  0.69622682  0.34808551  1.00597453\n",
      "  0.86769844  0.49058363  0.391395    0.49749127  0.32349793  0.77937335\n",
      "  0.8213274   1.09840179 -0.30403389  0.12290208  1.00610966  0.58177236\n",
      "  1.1341119   0.96578322  0.00223768  0.92480065  0.38522067 -0.14924838\n",
      "  0.0838867   1.01593236  0.77552378 -0.3796216  -0.04200841 -0.07720737\n",
      "  0.20530304  0.37478941  1.0509825   0.8014166 ]\n",
      "Bayesian Ridge      : [0.65644146 0.25361828 0.55663726 0.35423412 0.47137652 0.19843306\n",
      " 0.37353571 0.26112603 0.56566332 0.37509743 0.63325592 0.6320846\n",
      " 0.30806264 0.6227363  0.77511529 0.74278279 0.10839288 0.21068183\n",
      " 0.33575229 0.81881371 0.40055839 0.30616896 0.26282702 0.33760637\n",
      " 0.62053912 0.71209712 0.30221502 0.40096512 0.05143874 0.19729312\n",
      " 0.13919028 0.37757099 0.6991102  0.30130927 0.09621844 0.1429803\n",
      " 0.28573595 0.56414538 0.39996937 0.49898409]\n"
     ]
    },
    {
     "name": "stderr",
     "output_type": "stream",
     "text": [
      "/usr/local/lib/python3.6/dist-packages/sklearn/linear_model/_huber.py:296: ConvergenceWarning: lbfgs failed to converge (status=1):\n",
      "STOP: TOTAL NO. of ITERATIONS REACHED LIMIT.\n",
      "\n",
      "Increase the number of iterations (max_iter) or scale the data as shown in:\n",
      "    https://scikit-learn.org/stable/modules/preprocessing.html\n",
      "  self.n_iter_ = _check_optimize_result(\"lbfgs\", opt_res, self.max_iter)\n"
     ]
    },
    {
     "name": "stdout",
     "output_type": "stream",
     "text": [
      "Huber               : [0.63414541 0.22784261 0.56774659 0.36032646 0.52312506 0.04545756\n",
      " 0.39081936 0.21334024 0.55767976 0.29991582 0.60777033 0.5958724\n",
      " 0.20293289 0.59588349 0.80607216 0.77194602 0.09291947 0.19125235\n",
      " 0.31843801 0.83549852 0.42347381 0.25265431 0.30570387 0.31500156\n",
      " 0.62197532 0.7519069  0.32382082 0.38351755 0.04657435 0.30936647\n",
      " 0.16045527 0.39845944 0.69642486 0.29969201 0.13937805 0.03445798\n",
      " 0.26316481 0.6272997  0.4592655  0.41990269]\n",
      "Linear              : [0.66341425 0.23934944 0.53570682 0.33110733 0.48103468 0.19715645\n",
      " 0.37145135 0.26449344 0.55999104 0.36981599 0.61666291 0.63171995\n",
      " 0.30866133 0.62479472 0.75822589 0.73912439 0.10417565 0.20577869\n",
      " 0.33516355 0.82104244 0.41407807 0.31270604 0.25629228 0.35174011\n",
      " 0.63876056 0.70738042 0.29441251 0.39999353 0.04847399 0.19296669\n",
      " 0.12733034 0.38051579 0.70616724 0.29637698 0.09839239 0.14945951\n",
      " 0.28809482 0.568766   0.40015064 0.51159572]\n",
      "Logistic            : [1. 0. 0. 0. 0. 0. 0. 0. 1. 0. 1. 1. 0. 1. 1. 1. 0. 0. 0. 1. 0. 0. 0. 0.\n",
      " 1. 1. 0. 0. 0. 0. 0. 0. 1. 0. 0. 0. 0. 1. 0. 0.]\n",
      "Poisson             : [0.38044119 0.22350192 0.290235   0.25132153 0.24889134 0.19097468\n",
      " 0.25758773 0.21284014 0.40738952 0.26325588 0.40149961 0.41927791\n",
      " 0.22164109 0.3405912  0.5222272  0.51841336 0.15627859 0.17748893\n",
      " 0.22201424 0.65012375 0.28669567 0.2322124  0.18215259 0.25575107\n",
      " 0.40902976 0.46665499 0.21132763 0.23127717 0.13378745 0.16727962\n",
      " 0.12614073 0.24765575 0.45504392 0.20779863 0.14690601 0.15062909\n",
      " 0.19341337 0.38219865 0.31525405 0.29816309]\n",
      "TheilSen            : [0.6498964  0.26222661 0.55138526 0.34435827 0.51897364 0.06380851\n",
      " 0.39335657 0.24027268 0.56029474 0.32463249 0.61017769 0.60128128\n",
      " 0.20345659 0.60623729 0.77694772 0.7389979  0.09954892 0.18204928\n",
      " 0.32553147 0.82975459 0.4166009  0.29444541 0.3111346  0.32397523\n",
      " 0.64795176 0.74552551 0.3425438  0.38654711 0.0492558  0.29918031\n",
      " 0.13922053 0.3974846  0.68633532 0.30049567 0.14515097 0.06752904\n",
      " 0.2733396  0.6401292  0.44264566 0.43117678]\n",
      "Tweedie             : [0.61252247 0.2985361  0.51448061 0.37360791 0.43408193 0.24365239\n",
      " 0.38221229 0.29868701 0.56397466 0.39175257 0.59588847 0.61113458\n",
      " 0.32038538 0.58206573 0.71428736 0.69991745 0.15727147 0.23245394\n",
      " 0.3517341  0.77270482 0.42425747 0.33793957 0.25870394 0.36800609\n",
      " 0.59598994 0.66326746 0.32110913 0.39582529 0.110201   0.22446246\n",
      " 0.14570574 0.38483605 0.66875507 0.31454121 0.14713684 0.17816196\n",
      " 0.29806637 0.55600943 0.42873734 0.48830221]\n"
     ]
    }
   ],
   "source": [
    "for regressor_name, regressor in regressors.items():\n",
    "    regressor.fit(X_train, y_train)\n",
    "    predicted_results = regressor.predict(X_test)\n",
    "    print(f\"{regressor_name:20}: {predicted_results}\")\n",
    "#     score = regressor.score(X_test, y_test)\n",
    "#     print(f\"{regressor_name:20}: {score}\")"
   ]
  },
  {
   "cell_type": "code",
   "execution_count": null,
   "metadata": {},
   "outputs": [],
   "source": []
  },
  {
   "cell_type": "code",
   "execution_count": null,
   "metadata": {},
   "outputs": [],
   "source": []
  },
  {
   "cell_type": "code",
   "execution_count": null,
   "metadata": {},
   "outputs": [],
   "source": []
  },
  {
   "cell_type": "code",
   "execution_count": null,
   "metadata": {},
   "outputs": [],
   "source": []
  },
  {
   "cell_type": "code",
   "execution_count": null,
   "metadata": {},
   "outputs": [],
   "source": []
  },
  {
   "cell_type": "code",
   "execution_count": null,
   "metadata": {},
   "outputs": [],
   "source": []
  },
  {
   "cell_type": "code",
   "execution_count": null,
   "metadata": {},
   "outputs": [],
   "source": []
  },
  {
   "cell_type": "code",
   "execution_count": null,
   "metadata": {},
   "outputs": [],
   "source": []
  },
  {
   "cell_type": "code",
   "execution_count": null,
   "metadata": {},
   "outputs": [],
   "source": []
  },
  {
   "cell_type": "code",
   "execution_count": null,
   "metadata": {},
   "outputs": [],
   "source": []
  },
  {
   "cell_type": "code",
   "execution_count": null,
   "metadata": {},
   "outputs": [],
   "source": []
  },
  {
   "cell_type": "code",
   "execution_count": null,
   "metadata": {},
   "outputs": [],
   "source": []
  },
  {
   "cell_type": "code",
   "execution_count": null,
   "metadata": {},
   "outputs": [],
   "source": []
  }
 ],
 "metadata": {
  "kernelspec": {
   "display_name": "Python 3",
   "language": "python",
   "name": "python3"
  },
  "language_info": {
   "codemirror_mode": {
    "name": "ipython",
    "version": 3
   },
   "file_extension": ".py",
   "mimetype": "text/x-python",
   "name": "python",
   "nbconvert_exporter": "python",
   "pygments_lexer": "ipython3",
   "version": "3.6.8"
  }
 },
 "nbformat": 4,
 "nbformat_minor": 2
}
